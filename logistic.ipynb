{
 "cells": [
  {
   "cell_type": "code",
   "execution_count": 1,
   "metadata": {},
   "outputs": [],
   "source": [
    "import codecs"
   ]
  },
  {
   "cell_type": "code",
   "execution_count": 12,
   "metadata": {},
   "outputs": [],
   "source": [
    "import pandas as pd\n",
    "import spacy\n",
    "nlp = spacy.load('en_core_web_lg')\n",
    "spacy_stopwords = spacy.lang.en.stop_words.STOP_WORDS\n",
    "from sklearn.feature_extraction.text import TfidfTransformer\n",
    "from sklearn.feature_extraction.text import CountVectorizer\n",
    "from sklearn import metrics\n",
    "from sklearn import linear_model"
   ]
  },
  {
   "cell_type": "code",
   "execution_count": 9,
   "metadata": {},
   "outputs": [],
   "source": [
    "from spacy.lang.en import English\n",
    "\n",
    "def loadDataSet():\n",
    "    train_df = pd.read_csv('../train_df.csv')\n",
    "    test_df = pd.read_csv('../test_df.csv')\n",
    "    classes = train_df.intent.unique().tolist()\n",
    "    train_x = train_df['text'].values\n",
    "    train_y = [classes.index(n) for n in train_df['intent'].values]\n",
    "    test_x = test_df['text'].values\n",
    "    test_y =  [classes.index(n) for n in test_df['intent'].values]\n",
    "    return train_x,train_y,test_x,test_y,classes"
   ]
  },
  {
   "cell_type": "code",
   "execution_count": 10,
   "metadata": {},
   "outputs": [
    {
     "name": "stderr",
     "output_type": "stream",
     "text": [
      "d:\\pyenv\\common\\deeplearning\\lib\\site-packages\\sklearn\\feature_extraction\\text.py:383: UserWarning: Your stop_words may be inconsistent with your preprocessing. Tokenizing the stop words generated tokens ['ll', 've'] not in stop_words.\n",
      "  warnings.warn('Your stop_words may be inconsistent with '\n"
     ]
    },
    {
     "name": "stdout",
     "output_type": "stream",
     "text": [
      "(24368, 16217)\n"
     ]
    }
   ],
   "source": [
    "count_vect = CountVectorizer(stop_words = spacy_stopwords)\n",
    "train_x,train_y,test_x,test_y,classes = loadDataSet()\n",
    "X_train_counts = count_vect.fit_transform(train_x)\n",
    "print(X_train_counts.shape)"
   ]
  },
  {
   "cell_type": "code",
   "execution_count": 20,
   "metadata": {},
   "outputs": [
    {
     "name": "stdout",
     "output_type": "stream",
     "text": [
      "                          precision    recall  f1-score   support\n",
      "\n",
      "      Cabernet Sauvignon       0.70      0.68      0.69      1747\n",
      "                   Syrah       0.50      0.69      0.58       782\n",
      "                Riesling       0.82      0.88      0.85       927\n",
      "              Chardonnay       0.89      0.79      0.83      2190\n",
      "              Pinot Noir       0.84      0.74      0.79      2490\n",
      "         Sauvignon Blanc       0.67      0.80      0.73       949\n",
      "Bordeaux-style Red Blend       0.70      0.77      0.73      1279\n",
      "               Red Blend       0.75      0.70      0.72      1612\n",
      "\n",
      "                accuracy                           0.75     11976\n",
      "               macro avg       0.73      0.76      0.74     11976\n",
      "            weighted avg       0.76      0.75      0.75     11976\n",
      "\n"
     ]
    }
   ],
   "source": [
    "clf = linear_model.LogisticRegression(penalty='l2', C=1.0, solver='lbfgs', n_jobs=-1).fit(X_train_counts, train_y)\n",
    "predicted = clf.predict(count_vect.transform(test_x))\n",
    "print(metrics.classification_report(test_y, predicted,target_names=classes))"
   ]
  },
  {
   "cell_type": "code",
   "execution_count": 21,
   "metadata": {},
   "outputs": [
    {
     "data": {
      "text/plain": [
       "1"
      ]
     },
     "execution_count": 21,
     "metadata": {},
     "output_type": "execute_result"
    }
   ],
   "source": [
    "1"
   ]
  },
  {
   "cell_type": "code",
   "execution_count": null,
   "metadata": {},
   "outputs": [],
   "source": []
  }
 ],
 "metadata": {
  "kernelspec": {
   "display_name": "Python 3",
   "language": "python",
   "name": "python3"
  },
  "language_info": {
   "codemirror_mode": {
    "name": "ipython",
    "version": 3
   },
   "file_extension": ".py",
   "mimetype": "text/x-python",
   "name": "python",
   "nbconvert_exporter": "python",
   "pygments_lexer": "ipython3",
   "version": "3.8.6"
  }
 },
 "nbformat": 4,
 "nbformat_minor": 4
}

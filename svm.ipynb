{
 "cells": [
  {
   "cell_type": "code",
   "execution_count": 2,
   "metadata": {},
   "outputs": [],
   "source": [
    "import codecs"
   ]
  },
  {
   "cell_type": "code",
   "execution_count": 1,
   "metadata": {},
   "outputs": [],
   "source": [
    "import pandas as pd\n",
    "import spacy\n",
    "nlp = spacy.load('en_core_web_lg')\n",
    "spacy_stopwords = spacy.lang.en.stop_words.STOP_WORDS\n",
    "from sklearn.feature_extraction.text import TfidfTransformer\n",
    "from sklearn.feature_extraction.text import CountVectorizer\n",
    "from sklearn import metrics\n",
    "from sklearn import linear_model\n",
    "from sklearn.svm import SVC"
   ]
  },
  {
   "cell_type": "code",
   "execution_count": 3,
   "metadata": {},
   "outputs": [],
   "source": [
    "from spacy.lang.en import English\n",
    "\n",
    "def feature_extractor(input_x, case='tfidf', max_df=1.0, min_df=0.0):\n",
    "    \"\"\"\n",
    "    特征抽取\n",
    "    \"\"\"\n",
    "    return TfidfVectorizer(token_pattern='\\w', ngram_range=(1,2), max_df=max_df, min_df=min_df).fit_transform(input_x)\n",
    "def fit_and_predicted(train_x, train_y, test_x, test_y, penalty='l2', C=1.0, solver='lbfgs'):\n",
    "    \"\"\"\n",
    "    训练与预测\n",
    "    \"\"\"\n",
    "    clf = linear_model.LogisticRegression(penalty=penalty, C=C, solver=solver, n_jobs=-1).fit(train_x, train_y)\n",
    "    predicted = clf.predict(test_x)\n",
    "    print(metrics.classification_report(test_y, predicted))\n",
    "    print('accuracy_score: %0.5f ' %(metrics.accuracy_score(test_y, predicted)))\n",
    "def loadDataSet():\n",
    "    train_df = pd.read_csv('../train_df.csv')\n",
    "    test_df = pd.read_csv('../test_df.csv')\n",
    "    classes = train_df.intent.unique().tolist()\n",
    "    train_x = train_df['text'].values\n",
    "    train_y = [classes.index(n) for n in train_df['intent'].values]\n",
    "    test_x = test_df['text'].values\n",
    "    test_y =  [classes.index(n) for n in test_df['intent'].values]\n",
    "    return train_x,train_y,test_x,test_y,classes"
   ]
  },
  {
   "cell_type": "code",
   "execution_count": 4,
   "metadata": {},
   "outputs": [
    {
     "name": "stderr",
     "output_type": "stream",
     "text": [
      "d:\\pyenv\\common\\deeplearning\\lib\\site-packages\\sklearn\\feature_extraction\\text.py:383: UserWarning: Your stop_words may be inconsistent with your preprocessing. Tokenizing the stop words generated tokens ['ll', 've'] not in stop_words.\n",
      "  warnings.warn('Your stop_words may be inconsistent with '\n"
     ]
    },
    {
     "name": "stdout",
     "output_type": "stream",
     "text": [
      "(24368, 16217)\n"
     ]
    }
   ],
   "source": [
    "count_vect = CountVectorizer(stop_words = spacy_stopwords)\n",
    "train_x,train_y,test_x,test_y,classes = loadDataSet()\n",
    "X_train_counts = count_vect.fit_transform(train_x)\n",
    "print(X_train_counts.shape)"
   ]
  },
  {
   "cell_type": "code",
   "execution_count": 6,
   "metadata": {},
   "outputs": [
    {
     "name": "stdout",
     "output_type": "stream",
     "text": [
      "[LibSVM]                          precision    recall  f1-score   support\n",
      "\n",
      "      Cabernet Sauvignon       0.74      0.75      0.75      1747\n",
      "                   Syrah       0.57      0.75      0.65       782\n",
      "                Riesling       0.86      0.88      0.87       927\n",
      "              Chardonnay       0.89      0.86      0.87      2190\n",
      "              Pinot Noir       0.87      0.79      0.83      2490\n",
      "         Sauvignon Blanc       0.73      0.82      0.77       949\n",
      "Bordeaux-style Red Blend       0.74      0.85      0.79      1279\n",
      "               Red Blend       0.86      0.70      0.77      1612\n",
      "\n",
      "                accuracy                           0.80     11976\n",
      "               macro avg       0.78      0.80      0.79     11976\n",
      "            weighted avg       0.81      0.80      0.80     11976\n",
      "\n"
     ]
    }
   ],
   "source": [
    "clf = SVC(kernel='rbf', verbose=True).fit(X_train_counts, train_y)\n",
    "predicted = clf.predict(count_vect.transform(test_x))\n",
    "print(metrics.classification_report(test_y, predicted,target_names=classes))"
   ]
  },
  {
   "cell_type": "code",
   "execution_count": 21,
   "metadata": {},
   "outputs": [
    {
     "data": {
      "text/plain": [
       "1"
      ]
     },
     "execution_count": 21,
     "metadata": {},
     "output_type": "execute_result"
    }
   ],
   "source": [
    "1"
   ]
  },
  {
   "cell_type": "code",
   "execution_count": null,
   "metadata": {},
   "outputs": [],
   "source": []
  }
 ],
 "metadata": {
  "kernelspec": {
   "display_name": "Python 3",
   "language": "python",
   "name": "python3"
  },
  "language_info": {
   "codemirror_mode": {
    "name": "ipython",
    "version": 3
   },
   "file_extension": ".py",
   "mimetype": "text/x-python",
   "name": "python",
   "nbconvert_exporter": "python",
   "pygments_lexer": "ipython3",
   "version": "3.8.6"
  }
 },
 "nbformat": 4,
 "nbformat_minor": 4
}

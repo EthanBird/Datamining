{
 "cells": [
  {
   "cell_type": "code",
   "execution_count": 1,
   "metadata": {},
   "outputs": [
    {
     "name": "stderr",
     "output_type": "stream",
     "text": [
      "d:\\pyenv\\common\\deeplearning\\lib\\site-packages\\sklearn\\feature_extraction\\text.py:383: UserWarning: Your stop_words may be inconsistent with your preprocessing. Tokenizing the stop words generated tokens ['ll', 've'] not in stop_words.\n",
      "  warnings.warn('Your stop_words may be inconsistent with '\n"
     ]
    },
    {
     "name": "stdout",
     "output_type": "stream",
     "text": [
      "(24368, 16217)\n"
     ]
    }
   ],
   "source": [
    "import pandas as pd\n",
    "import spacy\n",
    "nlp = spacy.load('en_core_web_lg')\n",
    "spacy_stopwords = spacy.lang.en.stop_words.STOP_WORDS\n",
    "from sklearn.naive_bayes import MultinomialNB\n",
    "from sklearn.feature_extraction.text import TfidfTransformer\n",
    "from sklearn.feature_extraction.text import CountVectorizer\n",
    "from sklearn import metrics\n",
    "def loadDataSet():\n",
    "    train_df = pd.read_csv('../train_df.csv')\n",
    "    test_df = pd.read_csv('../test_df.csv')\n",
    "    classes = train_df.intent.unique().tolist()\n",
    "    train_x = train_df['text'].values\n",
    "    train_y = [classes.index(n) for n in train_df['intent'].values]\n",
    "    test_x = test_df['text'].values\n",
    "    test_y =  [classes.index(n) for n in test_df['intent'].values]\n",
    "    return train_x,train_y,test_x,test_y,classes\n",
    "\n",
    "\n",
    "count_vect = CountVectorizer(stop_words = spacy_stopwords)\n",
    "train_x,train_y,test_x,test_y,classes = loadDataSet()\n",
    "X_train_counts = count_vect.fit_transform(train_x)\n",
    "print(X_train_counts.shape)\n"
   ]
  },
  {
   "cell_type": "code",
   "execution_count": 2,
   "metadata": {},
   "outputs": [
    {
     "name": "stdout",
     "output_type": "stream",
     "text": [
      "(24368, 16217)\n"
     ]
    }
   ],
   "source": [
    "tf_transformer = TfidfTransformer().fit(X_train_counts)\n",
    "X_train_tf = tf_transformer.transform(X_train_counts)\n",
    "print(X_train_tf.shape)"
   ]
  },
  {
   "cell_type": "code",
   "execution_count": 3,
   "metadata": {},
   "outputs": [
    {
     "name": "stdout",
     "output_type": "stream",
     "text": [
      "                          precision    recall  f1-score   support\n",
      "\n",
      "      Cabernet Sauvignon       0.68      0.67      0.68      1747\n",
      "                   Syrah       0.50      0.67      0.57       782\n",
      "                Riesling       0.81      0.87      0.84       927\n",
      "              Chardonnay       0.89      0.80      0.84      2190\n",
      "              Pinot Noir       0.89      0.70      0.78      2490\n",
      "         Sauvignon Blanc       0.71      0.79      0.75       949\n",
      "Bordeaux-style Red Blend       0.64      0.74      0.69      1279\n",
      "               Red Blend       0.69      0.75      0.72      1612\n",
      "\n",
      "                accuracy                           0.74     11976\n",
      "               macro avg       0.73      0.75      0.73     11976\n",
      "            weighted avg       0.76      0.74      0.75     11976\n",
      "\n",
      "['Chardonnay', 'Syrah', 'Sauvignon Blanc']\n"
     ]
    }
   ],
   "source": [
    "clf = MultinomialNB().fit(X_train_tf, train_y)\n",
    "\n",
    "pred = clf.predict(tf_transformer.transform(count_vect.transform(test_x)))\n",
    "\n",
    "print(metrics.classification_report(test_y, pred,target_names=classes))\n",
    "sentences = [\n",
    "  \"This is taut and mineral, with hidden power. It's very closed at this stage. It's a wine with acidity and notes of green fruits and crisp apples, with just a touch of wood. This will age for many years\",\n",
    "  \"This fruit is delicious. The fruits of the known fruit, darkness and water are filled. That's all. Rich, open, soft and strong \",\n",
    "  \"The aroma weaves a brocade of peaches, butter, grass, peas and citrus, and the taste buds are closely related to texture. With balanced acidity and chalkiness, supporting the taste of lemon and green herbs, this is a complex and easy to eat product\"\n",
    "]\n",
    "# ['Chardonnay','Bordeaux-style Red Blend','Sauvignon Blanc']\n",
    "print([classes[s] for s in clf.predict(tf_transformer.transform(count_vect.transform(sentences)))])"
   ]
  },
  {
   "cell_type": "code",
   "execution_count": null,
   "metadata": {},
   "outputs": [],
   "source": []
  }
 ],
 "metadata": {
  "kernelspec": {
   "display_name": "Python 3",
   "language": "python",
   "name": "python3"
  },
  "language_info": {
   "codemirror_mode": {
    "name": "ipython",
    "version": 3
   },
   "file_extension": ".py",
   "mimetype": "text/x-python",
   "name": "python",
   "nbconvert_exporter": "python",
   "pygments_lexer": "ipython3",
   "version": "3.8.6"
  }
 },
 "nbformat": 4,
 "nbformat_minor": 4
}
